{
  "nbformat": 4,
  "nbformat_minor": 2,
  "metadata": {
    "kernelspec": {
      "name": "synapse_pyspark",
      "display_name": "python"
    },
    "language_info": {
      "name": "python"
    },
    "save_output": true,
    "synapse_widget": {
      "version": "0.1",
      "state": {}
    }
  },
  "cells": [
    {
      "cell_type": "markdown",
      "metadata": {
        "nteract": {
          "transient": {
            "deleting": false
          }
        }
      },
      "source": [
        "Create table in existing database.  The WebTelemetry database was created in the Synapse UI using the Lake Database option."
      ]
    },
    {
      "cell_type": "code",
      "execution_count": null,
      "outputs": [],
      "metadata": {
        "jupyter": {
          "source_hidden": false,
          "outputs_hidden": false
        },
        "nteract": {
          "transient": {
            "deleting": false
          }
        },
        "microsoft": {
          "language": "sparksql"
        }
      },
      "source": [
        "%%sql\r\n",
        "CREATE TABLE IF NOT EXISTS WebTelemetry.SparkWebTelemetry \r\n",
        "USING CSV\r\n",
        "LOCATION 'abfss://datalakehouse@dhstordatalakeuk.dfs.core.windows.net/webtelemetrystreaming/EventYear=2022/EventMonth=02/EventDate=2022-02-28/EventHour=15/2121927388_f70ce87fd27e43f5a49d0b2dde2adeac_1.csv'\r\n",
        "OPTIONS (header \"true\", inferSchema \"true\", delimiter \"|\")"
      ]
    },
    {
      "cell_type": "markdown",
      "metadata": {
        "nteract": {
          "transient": {
            "deleting": false
          }
        }
      },
      "source": [
        "Create new database and add table"
      ]
    },
    {
      "cell_type": "code",
      "execution_count": null,
      "outputs": [],
      "metadata": {
        "jupyter": {
          "source_hidden": false,
          "outputs_hidden": false
        },
        "nteract": {
          "transient": {
            "deleting": false
          }
        },
        "microsoft": {
          "language": "sparksql"
        }
      },
      "source": [
        "%%sql\r\n",
        "CREATE DATABASE WebTelemetrySpark"
      ]
    },
    {
      "cell_type": "code",
      "execution_count": null,
      "outputs": [],
      "metadata": {
        "jupyter": {
          "source_hidden": false,
          "outputs_hidden": false
        },
        "nteract": {
          "transient": {
            "deleting": false
          }
        },
        "microsoft": {
          "language": "sparksql"
        }
      },
      "source": [
        "%%sql\r\n",
        "CREATE TABLE IF NOT EXISTS WebTelemetrySpark.SparkWebTelemetry \r\n",
        "USING CSV\r\n",
        "LOCATION 'abfss://datalakehouse@dhstordatalakeuk.dfs.core.windows.net/webtelemetrystreaming/EventYear=2022/EventMonth=02/EventDate=2022-02-28/EventHour=15/2121927388_f70ce87fd27e43f5a49d0b2dde2adeac_1.csv'\r\n",
        "OPTIONS (header \"true\", inferSchema \"true\", delimiter \"|\")"
      ]
    }
  ]
}